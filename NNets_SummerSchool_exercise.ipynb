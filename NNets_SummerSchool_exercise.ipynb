{
 "cells": [
  {
   "cell_type": "code",
   "execution_count": null,
   "metadata": {},
   "outputs": [],
   "source": [
    "from ipywidgets import interact, interactive, fixed, interact_manual\n",
    "from IPython import display\n",
    "import ipywidgets as widgets\n",
    "import matplotlib.pyplot as plt\n",
    "import numpy as np\n",
    "import sklearn as sk\n",
    "import sklearn.datasets\n",
    "from sklearn.linear_model import LogisticRegression\n",
    "import matplotlib\n",
    "cmap=plt.cm.Spectral\n",
    "np.random.seed(42)"
   ]
  },
  {
   "cell_type": "code",
   "execution_count": null,
   "metadata": {},
   "outputs": [],
   "source": [
    "X, y = sklearn.datasets.make_moons(200, noise=0.20)\n",
    "plt.scatter(X[:,0], X[:,1], s=40, c=y,cmap=cmap)\n",
    "\n",
    "log_reg = LogisticRegression(C=1e20,fit_intercept = False)\n",
    "log_reg.fit(X,y)\n",
    "\n",
    "def plot_decision(X, model, threshold = 0.5):\n",
    "    x_min, x_max = X[:, 0].min() - .5, X[:, 0].max() + .5\n",
    "    y_min, y_max = X[:, 1].min() - .5, X[:, 1].max() + .5\n",
    "    delta = 0.01\n",
    "    # Generate a grid of points with distance h between them\n",
    "    xx, yy = np.meshgrid(np.arange(x_min, x_max, delta), np.arange(y_min, y_max, delta))\n",
    "    # Predict the function value for the whole gid\n",
    "    grid_X = np.c_[xx.ravel(), yy.ravel()]\n",
    "    if not isinstance(model,dict):\n",
    "        if threshold == 0.5:\n",
    "            Z = model.predict(grid_X) # predictions_or_yhat\n",
    "        else:\n",
    "            probas = model.predict_proba(grid_X)[:,0]\n",
    "            Z = np.int8(probas > threshold)\n",
    "    else:\n",
    "        Z = model['predict'](grid_X)\n",
    "    Z = Z.reshape(xx.shape)\n",
    "    # Plot the contour and training examples\n",
    "    plt.figure()\n",
    "    plt.contourf(xx, yy, Z,cmap =cmap,alpha=0.8)\n",
    "    plt.scatter(X[:, 0], X[:, 1], c=y,cmap=cmap)\n",
    "    \n",
    "    \n",
    "plot_decision(X,log_reg,0.5)"
   ]
  },
  {
   "cell_type": "code",
   "execution_count": null,
   "metadata": {
    "scrolled": true
   },
   "outputs": [],
   "source": [
    "interact(lambda Threshold: plot_decision(X, log_reg, Threshold), Threshold = widgets.FloatSlider(value=0.5, min=0, max=1, step=0.05))"
   ]
  },
  {
   "cell_type": "markdown",
   "metadata": {},
   "source": [
    "## Logistic regression\n",
    "\n",
    "To predict probability we will use output of logistic function:\n",
    "\n",
    "$$ P( y=1) = \\dfrac{1}{1 + \\exp(- \\langle w, x \\rangle)} = \\sigma(\\langle w, x \\rangle)$$\n"
   ]
  },
  {
   "cell_type": "code",
   "execution_count": null,
   "metadata": {},
   "outputs": [],
   "source": [
    "def probability(X, w):    \n",
    "    # X -input data \n",
    "    # w - weights \n",
    "    \n",
    "    #### your code here #########\n",
    "    \n",
    "    return ???"
   ]
  },
  {
   "cell_type": "markdown",
   "metadata": {},
   "source": [
    "In logistic regression the optimal parameters $w$ are found by cross-entropy minimization:\n",
    "\n",
    "$$ L(w) =  - {1 \\over N} \\sum_{i=1}^N \\left[ {y_i \\cdot log P( \\hat{y_i} =1) + (1-y_i) \\cdot log (1-P(\\hat{y_i}=1))}\\right] $$\n",
    "\n"
   ]
  },
  {
   "cell_type": "code",
   "execution_count": null,
   "metadata": {},
   "outputs": [],
   "source": [
    "def compute_loss(X, y, w):\n",
    "    \"\"\"\n",
    "    Complete the loss function use the probability function defined above\n",
    "    \"\"\"\n",
    "    \n",
    "    #### your code here #########\n",
    "\n",
    "    return loss"
   ]
  },
  {
   "cell_type": "markdown",
   "metadata": {},
   "source": [
    "Check your implementation versus the 'right' one"
   ]
  },
  {
   "cell_type": "code",
   "execution_count": null,
   "metadata": {},
   "outputs": [],
   "source": [
    "from sklearn.metrics import log_loss\n",
    "assert compute_loss(X, y, log_reg.coef_[0]) == log_loss(y,log_reg.predict_proba(X)), \"Wrong implementation sorry :/\""
   ]
  },
  {
   "cell_type": "code",
   "execution_count": null,
   "metadata": {},
   "outputs": [],
   "source": [
    "def compute_grad(X, y, w):\n",
    "    \"\"\"\n",
    "    Derive the gradient and complete the function \n",
    "    \"\"\"\n",
    "    gradient = np.zeros((X.shape[1]))\n",
    "\n",
    "    #### your code here #########\n",
    "    \n",
    "    \n",
    "    \n",
    "    \n",
    "    return gradient"
   ]
  },
  {
   "cell_type": "code",
   "execution_count": null,
   "metadata": {},
   "outputs": [],
   "source": [
    "w = log_reg.coef_[0]\n",
    "def visualize(X,y,w):\n",
    "    x_min, x_max = X[:, 0].min() - .5, X[:, 0].max() + .5\n",
    "    y_min, y_max = X[:, 1].min() - .5, X[:, 1].max() + .5\n",
    "    delta = 0.01\n",
    "    # Generate a grid of points with distance delta between them\n",
    "    xx, yy = np.meshgrid(np.arange(x_min, x_max, delta), np.arange(y_min, y_max, delta))\n",
    "    # Predict the function value for the whole gid\n",
    "    grid_X = np.c_[xx.ravel(), yy.ravel()]\n",
    "    Z = probability(grid_X, w)\n",
    "    Z = Z.reshape(xx.shape)\n",
    "    # Plot the contour and training examples\n",
    "    plt.figure()\n",
    "    plt.contourf(xx, yy, Z,50,cmap = cmap,alpha=0.7)\n",
    "    plt.scatter(X[:, 0], X[:, 1], c=y,cmap=cmap)\n",
    "    \n",
    "visualize(X,y,w)"
   ]
  },
  {
   "cell_type": "markdown",
   "metadata": {},
   "source": [
    "## Stochastic gradient descent (mini batch)\n",
    "\n",
    "Stochastic gradient descent takes a random example on each iteration, calculates a gradient of the loss on it and makes a step:\n",
    "$$ w_t = w_{t-1} - \\eta \\dfrac{1}{m} \\sum_{j=1}^m \\nabla_w L(w_t, x_{i_j}, y_{i_j}) $$\n",
    "\n",
    "m - size of the batch "
   ]
  },
  {
   "cell_type": "code",
   "execution_count": null,
   "metadata": {},
   "outputs": [],
   "source": [
    "w = np.array([0, 0])\n",
    "\n",
    "eta = 0.1 # learning rate\n",
    "\n",
    "n_iter = 1000\n",
    "batch_size = 1\n",
    "loss_history = np.zeros(n_iter)\n",
    "\n",
    "\n",
    "for i in range(n_iter):\n",
    "    ind = np.random.choice(X.shape[0], batch_size)\n",
    "    loss_history[i] = compute_loss(X, y, w)\n",
    "    if i % 10 == 0 or i == len(loss_history)-1:\n",
    "        plt.figure(figsize=(15, 10))\n",
    "        plt.plot(loss_history)\n",
    "        ymin, ymax = plt.ylim()\n",
    "        plt.ylim(0, ymax)\n",
    "        display.clear_output(wait=True)\n",
    "        plt.show()\n",
    "    w = w - eta*compute_grad(X[ind,:], y[ind], w)"
   ]
  },
  {
   "cell_type": "code",
   "execution_count": null,
   "metadata": {},
   "outputs": [],
   "source": [
    "log_reg.coef_"
   ]
  },
  {
   "cell_type": "code",
   "execution_count": null,
   "metadata": {},
   "outputs": [],
   "source": [
    "nn_input_dim = 2 # input layer dimensionality\n",
    "nn_output_dim = 2 # output layer dimensionality\n",
    "\n",
    "# Gradient descent parameters (I picked these by hand)\n",
    "eta = 0.01 # learning rate for gradient descent"
   ]
  },
  {
   "cell_type": "code",
   "execution_count": null,
   "metadata": {},
   "outputs": [],
   "source": [
    "# Evaluate the total loss on the dataset\n",
    "def calculate_loss(model):\n",
    "    num_examples = len(X)\n",
    "    W1, b1, W2, b2 = model['W1'], model['b1'], model['W2'], model['b2']\n",
    "    # Forward propagation to calculate our predictions\n",
    "    z1 = X.dot(W1) + b1\n",
    "    a1 = np.tanh(z1)\n",
    "    z2 = a1.dot(W2) + b2\n",
    "    exp_scores = np.exp(z2)\n",
    "    probs = exp_scores / np.sum(exp_scores, axis=1, keepdims=True)\n",
    "    # Calculating the loss\n",
    "    logs = -np.log(probs[range(num_examples), y])\n",
    "    entropy_loss = np.sum(logs)\n",
    "    return 1./num_examples * entropy_loss"
   ]
  },
  {
   "cell_type": "code",
   "execution_count": null,
   "metadata": {},
   "outputs": [],
   "source": [
    "# This function learns parameters for the neural network and returns the model.\n",
    "# - nn_hdim: Number of nodes in the hidden layer\n",
    "# - n_iter: Number of passes through the training data for gradient descent\n",
    "\n",
    "def build_model(nn_hdim, n_iter=1000, print_loss=False):\n",
    "    \n",
    "    # Initialize the parameters to random values. We need to learn these.\n",
    "    num_examples = len(X)\n",
    "    np.random.seed(42)\n",
    "    W1 = np.random.randn(nn_input_dim, nn_hdim) / np.sqrt(nn_input_dim)\n",
    "    b1 = np.zeros((1, nn_hdim))\n",
    "    W2 = np.random.randn(nn_hdim, nn_output_dim) / np.sqrt(nn_hdim)\n",
    "    b2 = np.zeros((1, nn_output_dim))\n",
    "    \n",
    "    # This is what we return at the end\n",
    "    model = {}\n",
    "    loss_history = np.zeros(n_iter)\n",
    "    # Gradient descent. For each batch...\n",
    "    for i in range(0, n_iter):\n",
    "\n",
    "        # Forward propagation\n",
    "        z1 = X.dot(W1) + b1\n",
    "        a1 = np.tanh(z1)\n",
    "        z2 = a1.dot(W2) + b2\n",
    "        # softmax final activation layer\n",
    "        exp_scores = np.exp(z2)\n",
    "        probs = exp_scores / np.sum(exp_scores, axis=1, keepdims=True)\n",
    "\n",
    "        # Backpropagation\n",
    "        delta3 = probs\n",
    "        delta3[range(num_examples), y] -= 1\n",
    "        dW2 = (a1.T).dot(delta3)\n",
    "        db2 = np.sum(delta3, axis=0, keepdims=True)\n",
    "        delta2 = delta3.dot(W2.T) * (1 - np.power(a1, 2))\n",
    "        dW1 = np.dot(X.T, delta2)\n",
    "        db1 = np.sum(delta2, axis=0)\n",
    "\n",
    "        # Gradient descent parameter update\n",
    "        W1 += -eta * dW1\n",
    "        b1 += -eta * db1\n",
    "        W2 += -eta * dW2\n",
    "        b2 += -eta * db2\n",
    "        \n",
    "        # Assign new parameters to the model\n",
    "        \n",
    "        model = { 'W1': W1, 'b1': b1, 'W2': W2, 'b2': b2}\n",
    "        loss_history[i] = calculate_loss(model)\n",
    "        \n",
    "        if print_loss and i % 100 == 0:\n",
    "          print(\"Loss after iteration %i: %f\" %(i, calculate_loss(model)))\n",
    "    \n",
    "    model['loss_history'] = loss_history\n",
    "    \n",
    "    # Helper function to predict an output (0 or 1)\n",
    "    def NN_predict(x):\n",
    "        W1, b1, W2, b2 = model['W1'], model['b1'], model['W2'], model['b2']\n",
    "        # Forward propagation\n",
    "        z1 = x.dot(W1) + b1\n",
    "        a1 = np.tanh(z1)\n",
    "        z2 = a1.dot(W2) + b2\n",
    "        exp_scores = np.exp(z2)\n",
    "        probs = exp_scores / np.sum(exp_scores, axis=1, keepdims=True)\n",
    "        return np.argmax(probs, axis=1)\n",
    "    \n",
    "    model['predict'] = NN_predict\n",
    "    return model"
   ]
  },
  {
   "cell_type": "code",
   "execution_count": null,
   "metadata": {},
   "outputs": [],
   "source": [
    "# Build a model with a 3-neurons in the hidden layer\n",
    "model = build_model(10, print_loss=True)"
   ]
  },
  {
   "cell_type": "code",
   "execution_count": null,
   "metadata": {
    "scrolled": true
   },
   "outputs": [],
   "source": [
    "#plot_decision(X,model)\n",
    "interact(lambda neurons: plot_decision(X, build_model(neurons)), neurons = widgets.IntSlider(value=3, min=3, max=50, step=1,\n",
    "                                                                                            continuous_update=False,))"
   ]
  },
  {
   "cell_type": "markdown",
   "metadata": {},
   "source": [
    "# Varying the hidden layer size and experimenting with new dataset\n"
   ]
  },
  {
   "cell_type": "code",
   "execution_count": null,
   "metadata": {},
   "outputs": [],
   "source": [
    "# change parameters to generate new dataset \n",
    "num_observations = 400 \n",
    "noise = 0.3\n",
    "X, y = sklearn.datasets.make_moons(num_observations, noise=noise)\n",
    "\n",
    "model = build_model(5,print_loss=True)\n",
    "plot_decision(X,model)"
   ]
  },
  {
   "cell_type": "markdown",
   "metadata": {},
   "source": [
    "### Higher level NNets library example - Keras "
   ]
  },
  {
   "cell_type": "code",
   "execution_count": null,
   "metadata": {},
   "outputs": [],
   "source": [
    "from keras.models import Sequential\n",
    "from keras.layers import Dense, Dropout"
   ]
  },
  {
   "cell_type": "code",
   "execution_count": null,
   "metadata": {
    "scrolled": false
   },
   "outputs": [],
   "source": [
    "model = Sequential()\n",
    "model.add(Dense(10, input_dim=2, activation='relu'))\n",
    "model.add(Dense(1, activation='sigmoid'))\n",
    "\n",
    "model.compile(loss='binary_crossentropy',\n",
    "              optimizer='RMSprop'\n",
    "             )\n",
    "\n",
    "model.fit(X, y,\n",
    "          epochs=100,\n",
    "          batch_size=50, verbose = 0)"
   ]
  },
  {
   "cell_type": "code",
   "execution_count": null,
   "metadata": {},
   "outputs": [],
   "source": [
    "def plot_decision_keras(X, model):\n",
    "    x_min, x_max = X[:, 0].min() - .5, X[:, 0].max() + .5\n",
    "    y_min, y_max = X[:, 1].min() - .5, X[:, 1].max() + .5\n",
    "    delta = 0.01\n",
    "    # Generate a grid of points with distance h between them\n",
    "    xx, yy = np.meshgrid(np.arange(x_min, x_max, delta), np.arange(y_min, y_max, delta))\n",
    "    # Predict the function value for the whole gid\n",
    "    grid_X = np.c_[xx.ravel(), yy.ravel()]\n",
    "    Z = model.predict_classes(grid_X) # predictions_or_yhat\n",
    "\n",
    "    Z = Z.reshape(xx.shape)\n",
    "    # Plot the contour and training examples\n",
    "    plt.figure()\n",
    "    plt.contourf(xx, yy, Z,cmap =cmap,alpha=0.8)\n",
    "    plt.scatter(X[:, 0], X[:, 1], c=y,cmap=cmap)\n",
    "    \n"
   ]
  },
  {
   "cell_type": "code",
   "execution_count": null,
   "metadata": {},
   "outputs": [],
   "source": [
    "plot_decision_keras(X, model)"
   ]
  }
 ],
 "metadata": {
  "kernelspec": {
   "display_name": "Python 3",
   "language": "python",
   "name": "python3"
  },
  "language_info": {
   "codemirror_mode": {
    "name": "ipython",
    "version": 3
   },
   "file_extension": ".py",
   "mimetype": "text/x-python",
   "name": "python",
   "nbconvert_exporter": "python",
   "pygments_lexer": "ipython3",
   "version": "3.6.4"
  }
 },
 "nbformat": 4,
 "nbformat_minor": 2
}
